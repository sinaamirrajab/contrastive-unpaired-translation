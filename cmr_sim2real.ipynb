{
 "cells": [
  {
   "cell_type": "code",
   "execution_count": null,
   "source": [],
   "outputs": [],
   "metadata": {}
  },
  {
   "cell_type": "markdown",
   "source": [
    "# Simulation to real translation via unsupervised/unpaired translation models\n",
    "\n",
    "### The idea is to transfer the apperance/style of the real cardiac MRI data to the simulated data, without altering the content/anatomy presented in the simulated images. Unsupervised/unpaired deep learning models for image-to-image translation such as CycleGAN, CUR, MUNIT, UNIT, etc could be used for this purpose. We start with CycleGAN and CUT.\n",
    "### One key important aspect is to make sure the anatomy of the simulated image is preserved, while the contrast and apperance could change."
   ],
   "metadata": {}
  },
  {
   "cell_type": "markdown",
   "source": [
    "1. default CUT model: the anatomy is lost when the model is trained with more epoches, while for the earlier epochs, the style is not transfered properly and images remain blured\n",
    "2. default CycleGAN model: \n",
    "\n",
    "- tweaking the paramters of the model:\n",
    "1. CUT: change the discriminator architecture because it seems the basic discriminator is learning quickly and does not inform the generator properly\n",
    "- use multi-scale discriminator\n",
    "- disable random horizontal and vertical filps as data augmentaiton, make sure images are oriented in the same direction"
   ],
   "metadata": {}
  },
  {
   "cell_type": "markdown",
   "source": [],
   "metadata": {}
  }
 ],
 "metadata": {
  "orig_nbformat": 4,
  "language_info": {
   "name": "python",
   "version": "3.6.11"
  },
  "kernelspec": {
   "name": "python3",
   "display_name": "Python 3.6.11 64-bit ('.venv_CMR_CUT': venv)"
  },
  "interpreter": {
   "hash": "04abae9141a2909ad48b4257c54958dd7880865233a918e6eefe2096cf5a4eef"
  }
 },
 "nbformat": 4,
 "nbformat_minor": 2
}