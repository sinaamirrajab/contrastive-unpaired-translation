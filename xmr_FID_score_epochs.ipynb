{
 "cells": [
  {
   "cell_type": "code",
   "execution_count": 1,
   "metadata": {},
   "outputs": [
    {
     "name": "stdout",
     "output_type": "stream",
     "text": [
      "----------------- Options ---------------\n",
      "                 CUT_mode: CUT                           \n",
      "                      amp: False                         \n",
      "               batch_size: 1                             \n",
      "          checkpoints_dir: ./checkpoints                 \n",
      "                crop_size: 256                           \n",
      "                 dataroot: placeholder                   \n",
      "             dataset_mode: unaligned                     \n",
      "                direction: AtoB                          \n",
      "          display_winsize: 256                           \n",
      "               easy_label: experiment_name               \n",
      "                    epoch: latest                        \n",
      "                     eval: False                         \n",
      "        flip_equivariance: False                         \n",
      "                  gpu_ids: 1                             \n",
      "              image_dir_A: /data/sina/datasets/seb/SA_files_processed/\n",
      "              image_dir_B: /data/sina/dataset/seb/mms2_processed/Philips/\n",
      "                init_gain: 0.02                          \n",
      "                init_type: xavier                        \n",
      "                 input_nc: 3                             \n",
      "                  isTrain: False                         \t[default: None]\n",
      "               lambda_GAN: 1.0                           \n",
      "               lambda_NCE: 1.0                           \n",
      "                load_size: 256                           \n",
      "                 log_file: None                          \n",
      "         max_dataset_size: inf                           \n",
      "                    model: cut                           \n",
      "               n_layers_D: 3                             \n",
      "                     name: experiment_name               \n",
      "                    nce_T: 0.07                          \n",
      "                  nce_idt: True                          \n",
      "nce_includes_all_negatives_from_minibatch: False                         \n",
      "               nce_layers: 0,4,8,12,16                   \n",
      "                      ndf: 64                            \n",
      "                     netD: basic                         \n",
      "                     netF: mlp_sample                    \n",
      "                  netF_nc: 256                           \n",
      "                     netG: resnet_9blocks                \n",
      "                      ngf: 64                            \n",
      "             no_antialias: False                         \n",
      "          no_antialias_up: False                         \n",
      "               no_dropout: True                          \n",
      "                  no_flip: False                         \n",
      "                    normD: instance                      \n",
      "                    normG: instance                      \n",
      "                    nrows: 2                             \n",
      "              num_patches: 256                           \n",
      "                 num_test: 50                            \n",
      "              num_threads: 4                             \n",
      "                  out_dir: ./curves                      \n",
      "                output_nc: 3                             \n",
      "                    phase: test                          \n",
      "                pool_size: 0                             \n",
      "               preprocess: resize_and_crop               \n",
      "         random_scale_max: 3.0                           \n",
      "              results_dir: ./results/                    \n",
      "           serial_batches: False                         \n",
      "stylegan2_G_num_downsampling: 1                             \n",
      "                   suffix:                               \n",
      "              target_crop: 256                           \n",
      "               target_res: 2                             \n",
      "               valid_data: False                         \n",
      "                  verbose: False                         \n",
      "----------------- End -------------------\n",
      "dataset [CmrDataset] was created\n",
      "the size of loaded dataset is 270\n"
     ]
    },
    {
     "name": "stderr",
     "output_type": "stream",
     "text": [
      "/data/sina/projects/code/CUT/.venv/lib/python3.7/site-packages/torchvision/models/inception.py:77: FutureWarning: The default weight initialization of inception_v3 will be changed in future releases of torchvision. If you wish to keep the old behavior (which leads to long initialization times due to scipy/scipy#11299), please set init_weights=True.\n",
      "  ' due to scipy/scipy#11299), please set init_weights=True.', FutureWarning)\n",
      "100%|██████████| 50/50 [00:02<00:00, 19.13it/s]\n"
     ]
    },
    {
     "name": "stdout",
     "output_type": "stream",
     "text": [
      "FID between fake and Philips images for epoch test_10 is 328.6411550698842\n"
     ]
    },
    {
     "name": "stderr",
     "output_type": "stream",
     "text": [
      "\r",
      "  0%|          | 0/50 [00:00<?, ?it/s]"
     ]
    },
    {
     "name": "stdout",
     "output_type": "stream",
     "text": [
      "FID between fake and 7T images for epoch test_10 is 360.69073592068617\n"
     ]
    },
    {
     "name": "stderr",
     "output_type": "stream",
     "text": [
      "100%|██████████| 50/50 [00:02<00:00, 20.64it/s]\n"
     ]
    },
    {
     "name": "stdout",
     "output_type": "stream",
     "text": [
      "FID between fake and Philips images for epoch test_15 is 241.11150386708192\n"
     ]
    },
    {
     "name": "stderr",
     "output_type": "stream",
     "text": [
      "  2%|▏         | 1/50 [00:00<00:05,  9.56it/s]"
     ]
    },
    {
     "name": "stdout",
     "output_type": "stream",
     "text": [
      "FID between fake and 7T images for epoch test_15 is 408.44916429206967\n"
     ]
    },
    {
     "name": "stderr",
     "output_type": "stream",
     "text": [
      "100%|██████████| 50/50 [00:02<00:00, 18.68it/s]\n"
     ]
    },
    {
     "name": "stdout",
     "output_type": "stream",
     "text": [
      "FID between fake and Philips images for epoch test_20 is 333.90954980505165\n"
     ]
    },
    {
     "name": "stderr",
     "output_type": "stream",
     "text": [
      "\r",
      "  0%|          | 0/270 [00:00<?, ?it/s]"
     ]
    },
    {
     "name": "stdout",
     "output_type": "stream",
     "text": [
      "FID between fake and 7T images for epoch test_20 is 331.4266723970802\n"
     ]
    },
    {
     "name": "stderr",
     "output_type": "stream",
     "text": [
      "100%|██████████| 270/270 [00:11<00:00, 22.96it/s]\n"
     ]
    },
    {
     "name": "stdout",
     "output_type": "stream",
     "text": [
      "FID between fake and Philips images for epoch test_25 is 271.98162573056356\n"
     ]
    },
    {
     "name": "stderr",
     "output_type": "stream",
     "text": [
      "  6%|▌         | 3/50 [00:00<00:01, 27.06it/s]"
     ]
    },
    {
     "name": "stdout",
     "output_type": "stream",
     "text": [
      "FID between fake and 7T images for epoch test_25 is 265.2841322265511\n"
     ]
    },
    {
     "name": "stderr",
     "output_type": "stream",
     "text": [
      "100%|██████████| 50/50 [00:01<00:00, 31.30it/s]\n"
     ]
    },
    {
     "name": "stdout",
     "output_type": "stream",
     "text": [
      "FID between fake and Philips images for epoch test_30 is 296.7745230605529\n"
     ]
    },
    {
     "name": "stderr",
     "output_type": "stream",
     "text": [
      "\r",
      "  0%|          | 0/50 [00:00<?, ?it/s]"
     ]
    },
    {
     "name": "stdout",
     "output_type": "stream",
     "text": [
      "FID between fake and 7T images for epoch test_30 is 349.85456240214955\n"
     ]
    },
    {
     "name": "stderr",
     "output_type": "stream",
     "text": [
      "100%|██████████| 50/50 [00:01<00:00, 27.50it/s]\n"
     ]
    },
    {
     "name": "stdout",
     "output_type": "stream",
     "text": [
      "FID between fake and Philips images for epoch test_35 is 330.1195078812017\n"
     ]
    },
    {
     "name": "stderr",
     "output_type": "stream",
     "text": [
      "\r",
      "  0%|          | 0/50 [00:00<?, ?it/s]"
     ]
    },
    {
     "name": "stdout",
     "output_type": "stream",
     "text": [
      "FID between fake and 7T images for epoch test_35 is 332.09325615130246\n"
     ]
    },
    {
     "name": "stderr",
     "output_type": "stream",
     "text": [
      "100%|██████████| 50/50 [00:01<00:00, 26.31it/s]\n"
     ]
    },
    {
     "name": "stdout",
     "output_type": "stream",
     "text": [
      "FID between fake and Philips images for epoch test_5 is 307.86348317126317\n",
      "FID between fake and 7T images for epoch test_5 is 378.4455278861867\n"
     ]
    },
    {
     "data": {
      "image/png": "[encoded data removed]",
      "text/plain": [
       "<Figure size 432x288 with 1 Axes>"
      ]
     },
     "metadata": {
      "needs_background": "light"
     },
     "output_type": "display_data"
    },
    {
     "data": {
      "text/plain": [
       "<Figure size 432x288 with 0 Axes>"
      ]
     },
     "metadata": {},
     "output_type": "display_data"
    }
   ],
   "source": [
    "import sys\n",
    "sys.argv=['']\n",
    "del sys\n",
    "# calculate the FID score for epochs of differet CUT models\n",
    "import os\n",
    "from options.test_options import TestOptions\n",
    "from data import create_dataset\n",
    "from models import create_model\n",
    "from util.visualizer import save_images\n",
    "from util import html\n",
    "import util.util as util\n",
    "\n",
    "import nibabel as nib\n",
    "import numpy as np\n",
    "import os\n",
    "from PIL import Image \n",
    "\n",
    "import matplotlib.pyplot as plt\n",
    "import numpy as np\n",
    "\n",
    "#====================================================================================== general testing parameters ======================================================================================\n",
    "opt = TestOptions().parse()  # get test options\n",
    "# hard-code some parameters for test\n",
    "opt.num_threads = 0   # test code only supports num_threads = 1\n",
    "opt.batch_size = 1    # test code only supports batch_size = 1\n",
    "opt.serial_batches = True  # disable data shuffling; comment this line if results on randomly chosen images are needed.\n",
    "opt.no_flip = True    # no flip; comment this line if results on flipped images are needed.\n",
    "opt.display_id = -1   # no visdom display; the test code saves the results to a HTML file.\n",
    "\n",
    "\n",
    "## train options\n",
    "# opt.name = 'cmr_test_210719'\n",
    "# opt.name = 'cmr_test_hinge_210720'\n",
    "# opt.name = 'cmr_test_original_cut_210721'\n",
    "# opt.epoch = '25' # epoch 5 to 35\n",
    "opt.dataset_mode = 'cmr'\n",
    "opt.model = 'cut'\n",
    "opt.nce_idt = True\n",
    "opt.amp = False\n",
    "opt.direction = 'BtoA'\n",
    "opt.lambda_identity = 0.5\n",
    "opt.valid_data = True\n",
    "opt.image_dir_A = '/data/sina/dataset/seb/SA_files_processed/'\n",
    "opt.image_dir_B = '/data/sina/dataset/seb/mms2_processed/Philips/'\n",
    "\n",
    "opt.max_dataset_size = 5850 \n",
    "opt.output_nc =  1 \n",
    "opt.input_nc = 1 \n",
    "opt.batch_size = 1\n",
    "opt.num_patches = 16 \n",
    "\n",
    "opt.display_freq = 50\n",
    "opt.update_html_freq = 50\n",
    "opt.save_epoch_freq = 10\n",
    "opt.evaluation_freq = 500\n",
    "# opt.normG = 'batch'\n",
    "# opt.normD = 'batch'\n",
    "# opt.netD = 'n_layers'   # with the basic discriminator i see GAN artifacts in the translated images and that might be a sign of the fact that the discriminator gets trained faster\n",
    "# opt.netD = 'multi_scale'\n",
    "# opt.n_layers_D = 4\n",
    "opt.n_epochs  = 50\n",
    "opt.n_epochs_decay = 50\n",
    "opt.log_file = opt.checkpoints_dir + '/' + opt.name +  '/loss_log.txt'\n",
    "opt.loss_freq = 1000\n",
    "opt.results_dir = './results/synthesized_images/'\n",
    "\n",
    "dataset = create_dataset(opt)  # create a dataset given opt.dataset_mode and other options\n",
    "print('the size of loaded dataset is {}'.format(len(dataset)))\n",
    "# train_dataset = create_dataset(util.copyconf(opt, phase=\"train\"))\n",
    "\n",
    "saved_epochs = ['5', '10', '15', '20', '25', '30', '35']\n",
    "saved_models = ['cmr_test_original_cut_210721']\n",
    "\n",
    "def save_images_for_epochs_of_models(saved_epochs, saved_models):\n",
    "    fake_images_dir = []\n",
    "    opt.num_test = 50\n",
    "\n",
    "    for j, epo in enumerate(saved_epochs):\n",
    "        opt.name = saved_models[0]\n",
    "        opt.epoch = epo\n",
    "        model = create_model(opt)      # create a model given opt.model and other options\n",
    "        # create a webpage for viewing the results\n",
    "        web_dir = os.path.join(opt.results_dir, opt.name, '{}_{}'.format(opt.phase, opt.epoch))  # define the website directory\n",
    "        print('creating web directory', web_dir)\n",
    "        webpage = html.HTML(web_dir, 'Experiment = %s, Phase = %s, Epoch = %s' % (opt.name, opt.phase, opt.epoch))\n",
    "\n",
    "        generated = []\n",
    "        generated_path = []\n",
    "\n",
    "        for i, data in enumerate(dataset):\n",
    "            if i == 0:\n",
    "                model.data_dependent_initialize(data)\n",
    "                model.setup(opt)               # regular setup: load and print networks; create schedulers\n",
    "                model.parallelize()\n",
    "                if opt.eval:\n",
    "                    model.eval()\n",
    "            if i >= opt.num_test:  # only apply our model to opt.num_test images.\n",
    "                break\n",
    "            model.set_input(data)  # unpack data from data loader\n",
    "            model.test()           # run inference\n",
    "            visuals = model.get_current_visuals()  # get image results\n",
    "            generated.append(visuals)\n",
    "            img_path = model.get_image_paths()     # get image paths\n",
    "            generated_path.append(img_path)\n",
    "            if i % 5 == 0:  # save images to an HTML file\n",
    "                print('processing (%04d)-th image... %s' % (i, img_path))\n",
    "            save_images(webpage, visuals, img_path, width=opt.display_winsize)\n",
    "        webpage.save()  # save the HTML\n",
    "\n",
    "\n",
    "        # saving generated data\n",
    "        print('===== saving epoch {} for model {} done ====='.format(opt.epoch, opt.name))\n",
    "        for i in range(len(generated_path)):\n",
    "            # real_A = generated[i]['real_A'].squeeze().cpu().numpy()\n",
    "            # real_B = generated[i]['real_B'].squeeze().cpu().numpy()\n",
    "            fake_B = generated[i]['fake_B'].squeeze().cpu().numpy()\n",
    "            fake_B_name = generated_path[i][0]\n",
    "            fake_B_PIL = Image.fromarray(np.uint8(255*(fake_B+1)/2)).convert('RGB')\n",
    "            out_dir = os.path.join(web_dir, 'fake_B')\n",
    "            out_name = fake_B_name.split('/')[-1].split('.nii.gz')[0] + '_' + str(i) + '.png'\n",
    "            os.makedirs(os.path.dirname(os.path.join(out_dir, out_name)), exist_ok=True)\n",
    "            fake_B_PIL.save(os.path.join(out_dir, out_name), format='png')\n",
    "\n",
    "        print('===== saving epoch {} for model {} done ====='.format(opt.epoch, opt.name))\n",
    "        fake_images_dir.append(out_dir)\n",
    "    return fake_images_dir\n",
    "\n",
    "\n",
    "# use when the fake_B images have been already saved\n",
    "images_already_saved = True\n",
    "\n",
    "if images_already_saved:\n",
    "    fake_images_dir = [os.path.join(opt.results_dir, saved_models[0], fakes , 'fake_B') for fakes in sorted(os.listdir(os.path.join(opt.results_dir, saved_models[0])))]\n",
    "else:\n",
    "    fake_images_dir = save_images_for_epochs_of_models(saved_epochs, saved_models)\n",
    "\n",
    "# calculating FID score\n",
    "# read the generated data: \n",
    "import json\n",
    "import pathlib\n",
    "from fid_score import calculate_activation_statistics\n",
    "# process for calculate FID scores\n",
    "from inception import InceptionV3\n",
    "from fid_score import *\n",
    "\n",
    "opt.eval_dims = 2048\n",
    "# define the inceptionV3\n",
    "def load_inception(eval_dims):\n",
    "    block_idx = InceptionV3.BLOCK_INDEX_BY_DIM[opt.eval_dims]\n",
    "    eval_model = InceptionV3([block_idx]).cuda()\n",
    "    return eval_model\n",
    "# load real images distributions on the training set\n",
    "path_to_stat_ph = 'datasets/train_mu_si/Philips/'\n",
    "path_to_stat_7t = 'datasets/train_mu_si/SevenT/'\n",
    "\n",
    "def real_stats(path_to_stat):\n",
    "    mu_np_root = os.path.join(path_to_stat,'m.npy')\n",
    "    st_np_root = os.path.join(path_to_stat,'s.npy')\n",
    "    m0, s0 = np.load(mu_np_root), np.load(st_np_root)\n",
    "    return m0, s0 \n",
    "\n",
    "\n",
    "eval_model = load_inception(opt.eval_dims)\n",
    "\n",
    "def calculate_FID(path_to_stat_ph, path_to_stat_7t, fake_images_dir, eval_model):\n",
    "    fake_path = pathlib.Path(fake_images_dir) #\n",
    "    files = list(fake_path.glob('*.jpg')) + list(fake_path.glob('*.png'))\n",
    "\n",
    "    m0_ph, s0_ph = real_stats(path_to_stat_ph)\n",
    "    m0_7T, s0_7T = real_stats(path_to_stat_7t)\n",
    "\n",
    "    # calculate statistics: \n",
    "    m1, s1 = calculate_activation_statistics(files, eval_model, 1, opt.eval_dims, True, images=None)\n",
    "    # calculate FID: \n",
    "    fid_value_ph = calculate_frechet_distance(m0_ph, s0_ph, m1, s1)\n",
    "    print('FID between fake and Philips images for epoch {} is {}'.format(fake_images_dir.split('/')[-2] , fid_value_ph))\n",
    "    fid_value_7t = calculate_frechet_distance(m0_7T, s0_7T, m1, s1)\n",
    "    print('FID between fake and 7T images for epoch {} is {}'.format(fake_images_dir.split('/')[-2] , fid_value_7t))\n",
    "    return fid_value_ph, fid_value_7t\n",
    "\n",
    "\n",
    "FID_epochs = {'SevenT': [], 'Philips': []}\n",
    "for i, fake_path in enumerate(fake_images_dir):\n",
    "    if not 'latest' in fake_path:\n",
    "        epoch = int(fake_path.split('/')[-2].split('_')[-1])\n",
    "\n",
    "        fid_value_ph, fid_value_7t = calculate_FID(path_to_stat_ph, path_to_stat_7t, fake_path, eval_model)\n",
    "        FID_epochs['SevenT'].append((fid_value_7t, epoch))\n",
    "        FID_epochs['Philips'].append((fid_value_ph, epoch))\n",
    "\n",
    "\n",
    "\n",
    "\n"
   ]
  },
  {
   "cell_type": "code",
   "execution_count": 13,
   "metadata": {},
   "outputs": [
    {
     "data": {
      "image/png": "[encoded data removed]",
      "text/plain": [
       "<Figure size 432x288 with 1 Axes>"
      ]
     },
     "metadata": {
      "needs_background": "light"
     },
     "output_type": "display_data"
    },
    {
     "data": {
      "text/plain": [
       "<Figure size 432x288 with 0 Axes>"
      ]
     },
     "metadata": {},
     "output_type": "display_data"
    }
   ],
   "source": [
    "for (pairs1,pairs2 ) in  zip(FID_epochs['SevenT'], FID_epochs['Philips']):\n",
    "    plt.scatter(pairs1[1], pairs1[0], color = 'b', label= '7T')\n",
    "    plt.scatter(pairs2[1], pairs2[0], color = 'r', label= 'Philips')\n",
    "\n",
    "plt.legend(['7T', 'Philips'])\n",
    "plt.ylabel('FID score')\n",
    "plt.xlabel('epoch number')\n",
    "\n",
    "plt.show()\n",
    "plt.savefig('FID_scores.png', dpi=300)\n",
    "with open('FID_epochs.txt', 'w') as outfile:\n",
    "    json.dump(FID_epochs, outfile)"
   ]
  },
  {
   "cell_type": "code",
   "execution_count": null,
   "metadata": {
    "collapsed": true
   },
   "outputs": [],
   "source": []
  }
 ],
 "metadata": {
  "kernelspec": {
   "display_name": "Python 3.7.7 64-bit ('.venv')",
   "language": "python",
   "name": "python37764bitvenv85516811d2144101a9e83306da1c83d6"
  },
  "language_info": {
   "codemirror_mode": {
    "name": "ipython",
    "version": 3
   },
   "file_extension": ".py",
   "mimetype": "text/x-python",
   "name": "python",
   "nbconvert_exporter": "python",
   "pygments_lexer": "ipython3",
   "version": "3.7.7"
  }
 },
 "nbformat": 4,
 "nbformat_minor": 2
}
